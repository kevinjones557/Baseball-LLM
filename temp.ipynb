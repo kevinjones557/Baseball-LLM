{
 "cells": [
  {
   "cell_type": "code",
   "execution_count": 1,
   "metadata": {},
   "outputs": [
    {
     "name": "stdout",
     "output_type": "stream",
     "text": [
      "loading data\n"
     ]
    }
   ],
   "source": [
    "from dataclasses import dataclass\n",
    "import torch\n",
    "import torch.nn as nn\n",
    "from torch.nn import functional as F\n",
    "import pickle\n",
    "import time\n",
    "import random\n",
    "from model.gpt import *\n",
    "# code starts here\n",
    "\n",
    "device = \"cuda\"\n",
    "model = GPT(GPTConfig(vocab_size=50304)).to(device)\n",
    "\n",
    "torch.set_float32_matmul_precision('high')\n",
    "\n",
    "pretrained = torch.load('finetuned.pth')\n",
    "\n",
    "model.load_state_dict(pretrained['model'])\n",
    "\n",
    "model.config = pretrained['config']\n",
    "\n",
    "start_epoch = pretrained['epoch']\n",
    "start_step = pretrained['step']\n",
    "\n",
    "print('loading data')\n",
    "\n",
    "with open('qa_pairs.pkl', 'rb') as f:\n",
    "    data = pickle.load(f)\n",
    "\n",
    "train_data = data[:int(len(data) * 0.999)]\n",
    "val_data = data[int(len(data) * 0.999):]\n",
    "\n"
   ]
  },
  {
   "cell_type": "code",
   "execution_count": 3,
   "metadata": {},
   "outputs": [
    {
     "name": "stdout",
     "output_type": "stream",
     "text": [
      "Validation loss = 2.3874025344848633\n"
     ]
    }
   ],
   "source": [
    "model.eval()\n",
    "with torch.no_grad():\n",
    "    val_loss_accum = 0\n",
    "    val_loss_steps = len(val_data)\n",
    "    for i in range(val_loss_steps):\n",
    "        xy = val_data[i]\n",
    "        x, y = torch.tensor(xy[:-1]), torch.tensor(xy[1:])\n",
    "        x, y = x.unsqueeze(0).to(device), y.unsqueeze(0).to(device)\n",
    "        with torch.autocast(device_type=device, dtype=torch.bfloat16):\n",
    "            logits, loss = model(x, y)\n",
    "        loss /= val_loss_steps\n",
    "        val_loss_accum += loss.detach()\n",
    "print(f\"Validation loss = {val_loss_accum.item()}\")"
   ]
  },
  {
   "cell_type": "code",
   "execution_count": null,
   "metadata": {},
   "outputs": [],
   "source": []
  }
 ],
 "metadata": {
  "kernelspec": {
   "display_name": "Python 3",
   "language": "python",
   "name": "python3"
  },
  "language_info": {
   "codemirror_mode": {
    "name": "ipython",
    "version": 3
   },
   "file_extension": ".py",
   "mimetype": "text/x-python",
   "name": "python",
   "nbconvert_exporter": "python",
   "pygments_lexer": "ipython3",
   "version": "3.12.5"
  }
 },
 "nbformat": 4,
 "nbformat_minor": 2
}
